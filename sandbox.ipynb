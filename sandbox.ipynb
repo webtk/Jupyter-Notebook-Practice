{
 "cells": [
  {
   "cell_type": "code",
   "execution_count": 17,
   "id": "cf1e4b3c-68a7-4fd4-be0a-259347dbef7a",
   "metadata": {},
   "outputs": [],
   "source": [
    "import h5py\n",
    "import numpy as np\n",
    "import pyvista as pv\n",
    "import math\n",
    "import glob\n",
    "pv.global_theme.trame.server_proxy_enabled = True\n",
    "pv.set_jupyter_backend('client')"
   ]
  },
  {
   "cell_type": "code",
   "execution_count": 23,
   "id": "47b6a121-44c7-4b7f-9445-c149dbca060e",
   "metadata": {},
   "outputs": [],
   "source": [
    "import os\n",
    "output_dir=os.getcwd()\n",
    "\n",
    "def load_mesh(file_path, faces_key=\"solid.faces\", verts_key=\"solid.verts\"):\n",
    "    print(f\"Opening file: {file_path}\")\n",
    "    with h5py.File(file_path,'r') as root:\n",
    "        #root.items()\n",
    "        faces = np.array(root[faces_key])\n",
    "        faces = np.insert(faces, 0, 3, axis=1)\n",
    "        faces = faces.flatten()\n",
    "        vertices = np.array(root[verts_key])\n",
    "        return pv.PolyData(vertices,faces=faces)\n",
    "    raise Exception(f\"파일 열기 실패: {file_path}\")\n",
    "\n",
    "def show_all_meshes():\n",
    "    files = glob.glob(f\"{output_dir}/*.h5\")\n",
    "    meshes = [load_mesh(f) for f in files]\n",
    "    cols = 3\n",
    "    rows = math.ceil(len(meshes)/cols) + 1\n",
    "    print(rows, cols)\n",
    "    plotter = pv.Plotter(shape=(rows, cols))\n",
    "    for i, mesh in enumerate(meshes):\n",
    "        row = i // cols\n",
    "        col = i % cols\n",
    "        plotter.subplot(row, col)\n",
    "        plotter.add_mesh(mesh)\n",
    "    plotter.link_views()\n",
    "    plotter.show()\n",
    "\n",
    "def show_mesh(file_path):\n",
    "    mesh = load_mesh(file_path)\n",
    "    plotter = pv.Plotter()\n",
    "    plotter.add_mesh(mesh)\n",
    "    plotter.show()"
   ]
  },
  {
   "cell_type": "code",
   "execution_count": 24,
   "id": "92928c57-9c39-4c59-8bea-14be452b957d",
   "metadata": {},
   "outputs": [
    {
     "name": "stdout",
     "output_type": "stream",
     "text": [
      "Opening file: /home/webtk/workspace/sandbox/jupyter_sandbox/HDF_Samples/101_428.h5\n"
     ]
    },
    {
     "data": {
      "application/vnd.jupyter.widget-view+json": {
       "model_id": "47910af6324e4ba8a5e95e7bfd3e39d8",
       "version_major": 2,
       "version_minor": 0
      },
      "text/plain": [
       "Widget(value='<iframe src=\"/proxy/40875/index.html?ui=P_0x7f0fa04fbc10_1&reconnect=auto\" class=\"pyvista\" style…"
      ]
     },
     "metadata": {},
     "output_type": "display_data"
    }
   ],
   "source": [
    "show_mesh(f\"{output_dir}/HDF_Samples/101_428.h5\")\n",
    "#show_all_meshes()"
   ]
  }
 ],
 "metadata": {
  "kernelspec": {
   "display_name": "Python 3 (ipykernel)",
   "language": "python",
   "name": "python3"
  },
  "language_info": {
   "codemirror_mode": {
    "name": "ipython",
    "version": 3
   },
   "file_extension": ".py",
   "mimetype": "text/x-python",
   "name": "python",
   "nbconvert_exporter": "python",
   "pygments_lexer": "ipython3",
   "version": "3.10.12"
  }
 },
 "nbformat": 4,
 "nbformat_minor": 5
}
