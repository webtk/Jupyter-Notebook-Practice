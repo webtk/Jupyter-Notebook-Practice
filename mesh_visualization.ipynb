{
 "cells": [
  {
   "cell_type": "code",
   "execution_count": 2,
   "metadata": {},
   "outputs": [
    {
     "name": "stdout",
     "output_type": "stream",
     "text": [
      "step_load.ipynb\n"
     ]
    }
   ],
   "source": [
    "! ls ."
   ]
  },
  {
   "cell_type": "code",
   "execution_count": 4,
   "metadata": {},
   "outputs": [],
   "source": [
    "import sys\n",
    "FREECADPATH=\"/usr/lib/freecad-python3/lib\"\n",
    "sys.path.append(FREECADPATH)\n",
    "import FreeCAD as App\n",
    "import Part, MeshPart\n",
    "import numpy as np\n",
    "\n",
    "path = \"../../test_data/open-datasets/random_3d_objects/cad/object_00.step\"\n",
    "linear_deflection = 0.1\n",
    "angular_deflection = 0.1\n",
    "\n",
    "# Import STEP / IGES\n",
    "shape = Part.Shape()\n",
    "shape.read(path)\n",
    "doc = App.newDocument()\n",
    "Part.insert(path, doc.Name)\n",
    "\n",
    "# Discretize\n",
    "part = doc.Objects[0]\n",
    "shape = part.Shape\n",
    "mesh = MeshPart.meshFromShape(\n",
    "    Shape=shape,\n",
    "    LinearDeflection=linear_deflection,\n",
    "    AngularDeflection=angular_deflection,\n",
    "    Relative=False,\n",
    ")\n",
    "\n",
    "# Extract data\n",
    "vertices = np.array([[p.x, p.y, p.z] for p in mesh.Points], dtype=np.float32)\n",
    "faces = np.array([f.PointIndices for f in mesh.Facets], dtype=int)\n",
    "\n",
    "App.closeDocument(doc.Name)"
   ]
  },
  {
   "cell_type": "code",
   "execution_count": 5,
   "metadata": {},
   "outputs": [
    {
     "data": {
      "text/plain": [
       "array([[ 0.3468424 , -0.9078016 , -0.6756032 ],\n",
       "       [ 1.4691248 , -1.8204294 , -0.81910455],\n",
       "       [ 1.1306494 ,  0.0721783 , -0.7780701 ],\n",
       "       [ 2.2529318 , -0.8404496 , -0.92157143],\n",
       "       [ 2.1054688 , -0.8420363 , -2.0647466 ],\n",
       "       [ 0.1993793 , -0.90938836, -1.8187785 ],\n",
       "       [ 0.98318636,  0.07059158, -1.9212453 ],\n",
       "       [ 1.3216617 , -1.8220162 , -1.9622798 ]], dtype=float32)"
      ]
     },
     "execution_count": 5,
     "metadata": {},
     "output_type": "execute_result"
    }
   ],
   "source": [
    "vertices"
   ]
  },
  {
   "cell_type": "code",
   "execution_count": 6,
   "metadata": {},
   "outputs": [
    {
     "data": {
      "text/plain": [
       "array([[0, 1, 2],\n",
       "       [2, 1, 3],\n",
       "       [4, 5, 6],\n",
       "       [7, 5, 4],\n",
       "       [5, 1, 0],\n",
       "       [5, 7, 1],\n",
       "       [4, 6, 2],\n",
       "       [4, 2, 3],\n",
       "       [0, 2, 5],\n",
       "       [2, 6, 5],\n",
       "       [4, 3, 1],\n",
       "       [4, 1, 7]])"
      ]
     },
     "execution_count": 6,
     "metadata": {},
     "output_type": "execute_result"
    }
   ],
   "source": [
    "faces"
   ]
  }
 ],
 "metadata": {
  "kernelspec": {
   "display_name": "Python 3 (ipykernel)",
   "language": "python",
   "name": "python3"
  },
  "language_info": {
   "codemirror_mode": {
    "name": "ipython",
    "version": 3
   },
   "file_extension": ".py",
   "mimetype": "text/x-python",
   "name": "python",
   "nbconvert_exporter": "python",
   "pygments_lexer": "ipython3",
   "version": "3.10.12"
  }
 },
 "nbformat": 4,
 "nbformat_minor": 4
}
