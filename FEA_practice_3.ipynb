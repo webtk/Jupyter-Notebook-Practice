{
 "cells": [
  {
   "cell_type": "markdown",
   "id": "4cec7e3f-abb1-4f67-8039-d6791711d923",
   "metadata": {},
   "source": [
    "입체 예시로 철로 된 정육면체에 힘을 가하고, 변위를 예측하여 시각화하는 코드를 제시하겠습니다. 여기서는 3D 유한요소해석(FEA)을 적용하고, 변위를 시각화하기 위해 Python의 NumPy와 Matplotlib을 사용하겠습니다."
   ]
  },
  {
   "cell_type": "code",
   "execution_count": 1,
   "id": "3111ca03-e692-4d4e-9cd4-7c942f6c0296",
   "metadata": {},
   "outputs": [],
   "source": [
    "import numpy as np\n",
    "import matplotlib.pyplot as plt\n",
    "from mpl_toolkits.mplot3d import Axes3D\n",
    "import pyvista as pv"
   ]
  },
  {
   "cell_type": "code",
   "execution_count": 2,
   "id": "5549e2eb-7166-45fd-b631-8b92e440d223",
   "metadata": {},
   "outputs": [
    {
     "data": {
      "text/plain": [
       "array([[0. , 0. , 0. ],\n",
       "       [0. , 0. , 0.5],\n",
       "       [0. , 0. , 1. ],\n",
       "       [0.5, 0. , 0. ],\n",
       "       [0.5, 0. , 0.5],\n",
       "       [0.5, 0. , 1. ],\n",
       "       [1. , 0. , 0. ],\n",
       "       [1. , 0. , 0.5],\n",
       "       [1. , 0. , 1. ],\n",
       "       [0. , 0.5, 0. ],\n",
       "       [0. , 0.5, 0.5],\n",
       "       [0. , 0.5, 1. ],\n",
       "       [0.5, 0.5, 0. ],\n",
       "       [0.5, 0.5, 0.5],\n",
       "       [0.5, 0.5, 1. ],\n",
       "       [1. , 0.5, 0. ],\n",
       "       [1. , 0.5, 0.5],\n",
       "       [1. , 0.5, 1. ],\n",
       "       [0. , 1. , 0. ],\n",
       "       [0. , 1. , 0.5],\n",
       "       [0. , 1. , 1. ],\n",
       "       [0.5, 1. , 0. ],\n",
       "       [0.5, 1. , 0.5],\n",
       "       [0.5, 1. , 1. ],\n",
       "       [1. , 1. , 0. ],\n",
       "       [1. , 1. , 0.5],\n",
       "       [1. , 1. , 1. ]])"
      ]
     },
     "execution_count": 2,
     "metadata": {},
     "output_type": "execute_result"
    }
   ],
   "source": [
    "# 정육면체의 크기와 분할할 개수 설정\n",
    "length = 1.0\n",
    "num_elements_per_side = 2\n",
    "num_nodes_per_side = num_elements_per_side + 1\n",
    "\n",
    "# 각 노드의 위치 생성\n",
    "nodes = np.linspace(0, length, num_nodes_per_side)\n",
    "xx, yy, zz = np.meshgrid(nodes, nodes, nodes)\n",
    "nodes = np.vstack([xx.ravel(), yy.ravel(), zz.ravel()]).T\n",
    "nodes"
   ]
  },
  {
   "cell_type": "code",
   "execution_count": 3,
   "id": "7311034d-3c2b-4dd5-bacb-958bf50e2126",
   "metadata": {},
   "outputs": [
    {
     "data": {
      "text/plain": [
       "27"
      ]
     },
     "execution_count": 3,
     "metadata": {},
     "output_type": "execute_result"
    }
   ],
   "source": [
    "# 전체 노드의 수\n",
    "num_nodes = nodes.shape[0]\n",
    "num_nodes"
   ]
  },
  {
   "cell_type": "code",
   "execution_count": 4,
   "id": "150b4ef2-e832-4f4b-a259-58583b3fcf9a",
   "metadata": {},
   "outputs": [
    {
     "data": {
      "text/plain": [
       "array([[ 0,  1,  4,  3,  9, 10, 13, 12],\n",
       "       [ 1,  2,  5,  4, 10, 11, 14, 13],\n",
       "       [ 3,  4,  7,  6, 12, 13, 16, 15],\n",
       "       [ 4,  5,  8,  7, 13, 14, 17, 16],\n",
       "       [ 9, 10, 13, 12, 18, 19, 22, 21],\n",
       "       [10, 11, 14, 13, 19, 20, 23, 22],\n",
       "       [12, 13, 16, 15, 21, 22, 25, 24],\n",
       "       [13, 14, 17, 16, 22, 23, 26, 25]])"
      ]
     },
     "execution_count": 4,
     "metadata": {},
     "output_type": "execute_result"
    }
   ],
   "source": [
    "# 요소 연결 (2x2x2 정육면체 기준)\n",
    "elements = []\n",
    "for i in range(num_elements_per_side):\n",
    "    for j in range(num_elements_per_side):\n",
    "        for k in range(num_elements_per_side):\n",
    "            n0 = i * num_nodes_per_side**2 + j * num_nodes_per_side + k\n",
    "            n1 = n0 + 1\n",
    "            n2 = n0 + num_nodes_per_side\n",
    "            n3 = n2 + 1\n",
    "            n4 = n0 + num_nodes_per_side**2\n",
    "            n5 = n4 + 1\n",
    "            n6 = n4 + num_nodes_per_side\n",
    "            n7 = n6 + 1\n",
    "            elements.append([n0, n1, n3, n2, n4, n5, n7, n6])\n",
    "\n",
    "elements = np.array(elements)\n",
    "elements"
   ]
  },
  {
   "cell_type": "code",
   "execution_count": 5,
   "id": "f4af12bb-2662-4e78-8b03-5cfef9f10c64",
   "metadata": {},
   "outputs": [],
   "source": [
    "# 물리적 특성\n",
    "E = 210e9  # 탄성 계수 (Pa)\n",
    "nu = 0.3   # 포아송 비율\n",
    "\n",
    "# 유도된 요소 강성 행렬 계산 함수\n",
    "def element_stiffness_matrix(E, nu, L):\n",
    "    \"\"\" 3D 8-node hex element stiffness matrix \"\"\"\n",
    "    C = E / ((1 + nu) * (1 - 2 * nu)) * np.array([\n",
    "        [1 - nu, nu, nu, 0, 0, 0],\n",
    "        [nu, 1 - nu, nu, 0, 0, 0],\n",
    "        [nu, nu, 1 - nu, 0, 0, 0],\n",
    "        [0, 0, 0, (1 - 2 * nu) / 2, 0, 0],\n",
    "        [0, 0, 0, 0, (1 - 2 * nu) / 2, 0],\n",
    "        [0, 0, 0, 0, 0, (1 - 2 * nu) / 2],\n",
    "    ])\n",
    "    return C * L**3\n",
    "\n",
    "# 시스템 강성 행렬 초기화\n",
    "K = np.zeros((3 * num_nodes, 3 * num_nodes))"
   ]
  },
  {
   "cell_type": "code",
   "execution_count": 6,
   "id": "cc41c6bc-ae73-4065-85e3-5d10314fb95a",
   "metadata": {},
   "outputs": [
    {
     "data": {
      "text/plain": [
       "(6, 6)"
      ]
     },
     "execution_count": 6,
     "metadata": {},
     "output_type": "execute_result"
    }
   ],
   "source": [
    "# 각 요소의 강성 행렬을 시스템 강성 행렬에 추가\n",
    "L = length / num_elements_per_side\n",
    "C = element_stiffness_matrix(E, nu, L)\n",
    "C.shape"
   ]
  },
  {
   "cell_type": "code",
   "execution_count": 7,
   "id": "198de0d9-c685-4aca-ba56-1afa251f153b",
   "metadata": {},
   "outputs": [
    {
     "name": "stdout",
     "output_type": "stream",
     "text": [
      "Displacements at nodes:\n",
      "[[ 0.00000000e+00  0.00000000e+00  0.00000000e+00]\n",
      " [ 0.00000000e+00  0.00000000e+00  0.00000000e+00]\n",
      " [ 0.00000000e+00  0.00000000e+00 -1.98095238e-08]\n",
      " [ 0.00000000e+00  0.00000000e+00  0.00000000e+00]\n",
      " [ 0.00000000e+00  0.00000000e+00  0.00000000e+00]\n",
      " [ 0.00000000e+00  0.00000000e+00 -9.90476190e-09]\n",
      " [ 0.00000000e+00  0.00000000e+00  0.00000000e+00]\n",
      " [ 0.00000000e+00  0.00000000e+00  0.00000000e+00]\n",
      " [ 0.00000000e+00  0.00000000e+00 -1.98095238e-08]\n",
      " [ 0.00000000e+00  0.00000000e+00  0.00000000e+00]\n",
      " [ 0.00000000e+00  0.00000000e+00  0.00000000e+00]\n",
      " [ 0.00000000e+00  0.00000000e+00 -9.90476190e-09]\n",
      " [ 0.00000000e+00  0.00000000e+00  0.00000000e+00]\n",
      " [ 0.00000000e+00  0.00000000e+00  0.00000000e+00]\n",
      " [ 0.00000000e+00  0.00000000e+00 -4.95238095e-09]\n",
      " [ 0.00000000e+00  0.00000000e+00  0.00000000e+00]\n",
      " [ 0.00000000e+00  0.00000000e+00  0.00000000e+00]\n",
      " [ 0.00000000e+00  0.00000000e+00 -9.90476190e-09]\n",
      " [ 0.00000000e+00  0.00000000e+00  0.00000000e+00]\n",
      " [ 0.00000000e+00  0.00000000e+00  0.00000000e+00]\n",
      " [ 0.00000000e+00  0.00000000e+00 -1.98095238e-08]\n",
      " [ 0.00000000e+00  0.00000000e+00  0.00000000e+00]\n",
      " [ 0.00000000e+00  0.00000000e+00  0.00000000e+00]\n",
      " [ 0.00000000e+00  0.00000000e+00 -9.90476190e-09]\n",
      " [ 0.00000000e+00  0.00000000e+00  0.00000000e+00]\n",
      " [ 0.00000000e+00  0.00000000e+00  0.00000000e+00]\n",
      " [ 0.00000000e+00  0.00000000e+00 -1.98095238e-08]]\n"
     ]
    }
   ],
   "source": [
    "def hex_element_stiffness(E, nu, L):\n",
    "    \"\"\"Simplified 3D element stiffness matrix for demonstration\"\"\"\n",
    "    k = E / ((1 + nu) * (1 - 2 * nu)) * np.eye(6) * L**3\n",
    "    Ke = np.zeros((24, 24))\n",
    "    for i in range(8):\n",
    "        for j in range(8):\n",
    "            if i == j:\n",
    "                Ke[3*i:3*i+3, 3*j:3*j+3] = k[:3, :3]\n",
    "    return Ke\n",
    "\n",
    "for el in elements:\n",
    "    # 요소 강성 행렬\n",
    "    Ke = hex_element_stiffness(E, nu, L)\n",
    "    # 요소 노드 인덱스\n",
    "    node_indices = np.repeat(3 * el, 3) + np.tile([0, 1, 2], len(el))\n",
    "    for i, ni in enumerate(node_indices):\n",
    "        for j, nj in enumerate(node_indices):\n",
    "            K[ni, nj] += Ke[i, j]\n",
    "\n",
    "# 경계 조건 (아래 면 고정)\n",
    "fixed_dofs = np.where(nodes[:, 2] == 0)[0]\n",
    "fixed_dofs = np.repeat(3 * fixed_dofs, 3) + np.tile([0, 1, 2], len(fixed_dofs))\n",
    "\n",
    "# 하중 벡터 초기화 (위 면에 작용하는 외력)\n",
    "F = np.zeros(3 * num_nodes)\n",
    "top_dofs = np.where(nodes[:, 2] == length)[0]\n",
    "F[3 * top_dofs + 2] = -1000  # Z 방향으로 -1000N의 힘\n",
    "\n",
    "# 고정된 자유도 제거\n",
    "free_dofs = np.setdiff1d(np.arange(3 * num_nodes), fixed_dofs)\n",
    "K_reduced = K[np.ix_(free_dofs, free_dofs)]\n",
    "F_reduced = F[free_dofs]\n",
    "\n",
    "# 변위 계산\n",
    "displacements = np.zeros(3 * num_nodes)\n",
    "displacements[free_dofs] = np.linalg.solve(K_reduced, F_reduced)\n",
    "\n",
    "# 결과 출력\n",
    "print(\"Displacements at nodes:\")\n",
    "print(displacements.reshape(-1, 3))"
   ]
  },
  {
   "cell_type": "code",
   "execution_count": 8,
   "id": "c50c7302-d060-4f85-aee0-ead4cf7c615d",
   "metadata": {},
   "outputs": [
    {
     "data": {
      "text/plain": [
       "[[0, 1, 2, 3],\n",
       " [4, 5, 6, 7],\n",
       " [0, 1, 5, 4],\n",
       " [2, 3, 7, 6],\n",
       " [0, 2, 6, 4],\n",
       " [1, 3, 7, 5]]"
      ]
     },
     "execution_count": 8,
     "metadata": {},
     "output_type": "execute_result"
    }
   ],
   "source": [
    "# 변형 확대 비율 (시각화를 위해 실제 변형보다 크게 보이도록 설정)\n",
    "scale_factor = 1e2\n",
    "\n",
    "# 원래 위치에서의 노드 좌표\n",
    "original_nodes = nodes.copy()\n",
    "\n",
    "# 변형 후의 노드 좌표 (변위를 반영)\n",
    "deformed_nodes = original_nodes + displacements.reshape(-1, 3) * scale_factor\n",
    "\n",
    "# 각 요소의 면을 정의\n",
    "faces = [[0, 1, 2, 3], [4, 5, 6, 7], [0, 1, 5, 4], [2, 3, 7, 6], [0, 2, 6, 4], [1, 3, 7, 5]]\n",
    "faces"
   ]
  },
  {
   "cell_type": "code",
   "execution_count": 9,
   "id": "ed84c751-04f6-46dd-afe2-1b6825b575fe",
   "metadata": {},
   "outputs": [],
   "source": [
    "# PyVista에서 사용할 정육면체의 원래 및 변형된 좌표\n",
    "original_mesh = pv.PolyData()\n",
    "deformed_mesh = pv.PolyData()\n",
    "\n",
    "# # 요소를 원래 및 변형된 좌표에 추가\n",
    "# for el in elements:\n",
    "#     for face in faces:\n",
    "#         original_mesh.faces = np.hstack([np.array([4] + [el[i] for i in face])])\n",
    "#         deformed_mesh.faces = np.hstack([np.array([4] + [el[i] for i in face])])\n",
    "\n",
    "original_mesh.points = original_nodes\n",
    "deformed_mesh.points = deformed_nodes"
   ]
  },
  {
   "cell_type": "code",
   "execution_count": 10,
   "id": "216a601c-d51c-4572-88f1-8adc5aabbcf4",
   "metadata": {},
   "outputs": [
    {
     "data": {
      "text/plain": [
       "pyvista_ndarray([[0. , 0. , 0. ],\n",
       "                 [0. , 0. , 0.5],\n",
       "                 [0. , 0. , 1. ],\n",
       "                 [0.5, 0. , 0. ],\n",
       "                 [0.5, 0. , 0.5],\n",
       "                 [0.5, 0. , 1. ],\n",
       "                 [1. , 0. , 0. ],\n",
       "                 [1. , 0. , 0.5],\n",
       "                 [1. , 0. , 1. ],\n",
       "                 [0. , 0.5, 0. ],\n",
       "                 [0. , 0.5, 0.5],\n",
       "                 [0. , 0.5, 1. ],\n",
       "                 [0.5, 0.5, 0. ],\n",
       "                 [0.5, 0.5, 0.5],\n",
       "                 [0.5, 0.5, 1. ],\n",
       "                 [1. , 0.5, 0. ],\n",
       "                 [1. , 0.5, 0.5],\n",
       "                 [1. , 0.5, 1. ],\n",
       "                 [0. , 1. , 0. ],\n",
       "                 [0. , 1. , 0.5],\n",
       "                 [0. , 1. , 1. ],\n",
       "                 [0.5, 1. , 0. ],\n",
       "                 [0.5, 1. , 0.5],\n",
       "                 [0.5, 1. , 1. ],\n",
       "                 [1. , 1. , 0. ],\n",
       "                 [1. , 1. , 0.5],\n",
       "                 [1. , 1. , 1. ]])"
      ]
     },
     "execution_count": 10,
     "metadata": {},
     "output_type": "execute_result"
    }
   ],
   "source": [
    "original_mesh.points"
   ]
  },
  {
   "cell_type": "code",
   "execution_count": 11,
   "id": "805d1211-6fdc-4fec-8a06-c5d32b335e9a",
   "metadata": {},
   "outputs": [
    {
     "data": {
      "text/plain": [
       "array([ 4,  0,  1,  3,  4,  4,  1,  2,  4,  5,  4,  3,  4,  6,  7,  4,  4,\n",
       "        5,  7,  8,  4,  9, 10, 12, 13,  4, 10, 11, 13, 14,  4, 12, 13, 15,\n",
       "       16,  4, 13, 14, 16, 17])"
      ]
     },
     "execution_count": 11,
     "metadata": {},
     "output_type": "execute_result"
    }
   ],
   "source": [
    "# 각 요소의 면을 정의\n",
    "faces = []\n",
    "for el in elements:\n",
    "    faces.extend([\n",
    "          [4, el[0], el[1], el[3], el[2]],\n",
    "          # [4, el[4], el[5], el[7], el[6]],\n",
    "          # [4, el[0], el[1], el[5], el[4]],\n",
    "          # [4, el[2], el[3], el[7], el[6]],\n",
    "          # [4, el[0], el[2], el[6], el[4]],\n",
    "          # [4, el[1], el[3], el[7], el[5]]\n",
    "         ])\n",
    "\n",
    "faces = np.hstack(faces)\n",
    "original_mesh.faces = faces\n",
    "original_mesh.faces "
   ]
  },
  {
   "cell_type": "code",
   "execution_count": 12,
   "id": "06fa5a9e-440d-4f36-81ba-0334f5b9fbdc",
   "metadata": {},
   "outputs": [
    {
     "data": {
      "application/vnd.jupyter.widget-view+json": {
       "model_id": "a2874080e0c84392a6314ea985eda6cb",
       "version_major": 2,
       "version_minor": 0
      },
      "text/plain": [
       "Widget(value='<iframe src=\"http://localhost:33593/index.html?ui=P_0x7faa2db2fd60_0&reconnect=auto\" class=\"pyvi…"
      ]
     },
     "metadata": {},
     "output_type": "display_data"
    }
   ],
   "source": [
    "# import pyvista as pv\n",
    "#pv.global_theme.trame.server_proxy_enabled = True\n",
    "pv.set_jupyter_backend('client')\n",
    "\n",
    "# PyVista 플로터 설정\n",
    "plotter = pv.Plotter(shape=(1, 2), window_size=[1600, 800])\n",
    "# plotter.subplot(0, 0)\n",
    "plotter.add_mesh(original_mesh, show_edges=True, color='cyan', edge_color='r', opacity=0.5)\n",
    "plotter.add_text(\"Original Position\", position='upper_left', font_size=12)\n",
    "# plotter.subplot(0, 1)\n",
    "# plotter.add_mesh(deformed_mesh, show_edges=True, color='cyan', edge_color='r', opacity=0.5)\n",
    "# plotter.add_text(\"Deformed Position\", position='upper_left', font_size=12)\n",
    "plotter.show()"
   ]
  },
  {
   "cell_type": "code",
   "execution_count": 13,
   "id": "4a4799b5-b57b-4d40-8dad-b4f4a902edee",
   "metadata": {},
   "outputs": [
    {
     "name": "stderr",
     "output_type": "stream",
     "text": [
      "/home/webtk/workspace/sandbox/jupyter_sandbox/.venv/lib/python3.10/site-packages/pyvista/core/utilities/points.py:52: UserWarning: Points is not a float type. This can cause issues when transforming or applying filters. Casting to ``np.float32``. Disable this by passing ``force_float=False``.\n",
      "  warnings.warn(\n"
     ]
    },
    {
     "data": {
      "application/vnd.jupyter.widget-view+json": {
       "model_id": "ac0ab3abe36c4b0694644c465db84199",
       "version_major": 2,
       "version_minor": 0
      },
      "text/plain": [
       "Widget(value='<iframe src=\"http://localhost:33593/index.html?ui=P_0x7faa2db2fe50_1&reconnect=auto\" class=\"pyvi…"
      ]
     },
     "metadata": {},
     "output_type": "display_data"
    }
   ],
   "source": [
    "# import pyvista as pv\n",
    "# import numpy as np\n",
    "\n",
    "# 정육면체의 꼭지점 좌표 정의\n",
    "points = np.array([\n",
    "    [0, 0, 0],  # 점 0\n",
    "    [1, 0, 0],  # 점 1\n",
    "    [1, 1, 0],  # 점 2\n",
    "    [0, 1, 0],  # 점 3\n",
    "    [0, 0, 1],  # 점 4\n",
    "    [1, 0, 1],  # 점 5\n",
    "    [1, 1, 1],  # 점 6\n",
    "    [0, 1, 1]   # 점 7\n",
    "])\n",
    "\n",
    "# 정육면체의 면을 정의 (각 면은 4개의 점으로 구성)\n",
    "faces = np.hstack([\n",
    "    [4, 0, 1, 2, 3],  # 면 1\n",
    "    [4, 4, 5, 6, 7],  # 면 2\n",
    "    [4, 0, 1, 5, 4],  # 면 3\n",
    "    [4, 1, 2, 6, 5],  # 면 4\n",
    "    [4, 2, 3, 7, 6],  # 면 5\n",
    "    [4, 3, 0, 4, 7]   # 면 6\n",
    "])\n",
    "\n",
    "# PolyData 객체 생성\n",
    "cube = pv.PolyData(points, faces)\n",
    "\n",
    "# 플로터 생성\n",
    "plotter = pv.Plotter()\n",
    "plotter.add_mesh(cube, color='white', show_edges=True)\n",
    "plotter.show()\n"
   ]
  }
 ],
 "metadata": {
  "kernelspec": {
   "display_name": "Python 3 (ipykernel)",
   "language": "python",
   "name": "python3"
  },
  "language_info": {
   "codemirror_mode": {
    "name": "ipython",
    "version": 3
   },
   "file_extension": ".py",
   "mimetype": "text/x-python",
   "name": "python",
   "nbconvert_exporter": "python",
   "pygments_lexer": "ipython3",
   "version": "3.10.12"
  }
 },
 "nbformat": 4,
 "nbformat_minor": 5
}
